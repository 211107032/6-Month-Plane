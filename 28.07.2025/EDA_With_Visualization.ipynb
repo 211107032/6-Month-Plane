{
 "cells": [
  {
   "cell_type": "code",
   "execution_count": 1,
   "id": "66dbfe42",
   "metadata": {},
   "outputs": [
    {
     "name": "stdout",
     "output_type": "stream",
     "text": [
      "* Running on local URL:  http://127.0.0.1:7864\n",
      "* Running on public URL: https://2b3013c325d9c0eb50.gradio.live\n",
      "\n",
      "This share link expires in 1 week. For free permanent hosting and GPU upgrades, run `gradio deploy` from the terminal in the working directory to deploy to Hugging Face Spaces (https://huggingface.co/spaces)\n"
     ]
    },
    {
     "data": {
      "text/html": [
       "<div><iframe src=\"https://2b3013c325d9c0eb50.gradio.live\" width=\"100%\" height=\"500\" allow=\"autoplay; camera; microphone; clipboard-read; clipboard-write;\" frameborder=\"0\" allowfullscreen></iframe></div>"
      ],
      "text/plain": [
       "<IPython.core.display.HTML object>"
      ]
     },
     "metadata": {},
     "output_type": "display_data"
    },
    {
     "data": {
      "text/plain": []
     },
     "execution_count": 1,
     "metadata": {},
     "output_type": "execute_result"
    }
   ],
   "source": [
    "import gradio as gr\n",
    "import pandas as pd\n",
    "import matplotlib.pyplot as plt\n",
    "import seaborn as sns\n",
    "import ollama\n",
    "import os\n",
    "\n",
    "# Function to Generate AI Insights using Ollama\n",
    "def generate_ai_insights(df_summary):\n",
    "    prompt = f\"Analyze the dataset summary and provide insights:\\n\\n{df_summary}\"\n",
    "    \n",
    "    try:\n",
    "        response = ollama.chat(\n",
    "            model=\"gemma3:1b\",  # ✅ CHANGE MODEL NAME HERE\n",
    "            messages=[{\"role\": \"user\", \"content\": prompt}]\n",
    "        )\n",
    "        return response['message']['content']\n",
    "    except Exception as e:\n",
    "        return f\"Error generating AI insights: {e}\"\n",
    "\n",
    "# Function to Generate Data Visualizations\n",
    "def generate_visualizations(df):\n",
    "    plot_paths = []\n",
    "\n",
    "    # Ensure plots folder exists\n",
    "    if not os.path.exists(\"plots\"):\n",
    "        os.makedirs(\"plots\")\n",
    "    \n",
    "    # Histograms for numeric columns\n",
    "    for col in df.select_dtypes(include=['number']).columns:\n",
    "        plt.figure(figsize=(6, 4))\n",
    "        sns.histplot(df[col], bins=30, kde=True, color=\"blue\")\n",
    "        plt.title(f\"Distribution of {col}\")\n",
    "        path = f\"plots/{col}_distribution.png\"\n",
    "        plt.savefig(path)\n",
    "        plot_paths.append(path)\n",
    "        plt.close()\n",
    "    \n",
    "    # Correlation Heatmap\n",
    "    numeric_df = df.select_dtypes(include=['number'])\n",
    "    if not numeric_df.empty:\n",
    "        plt.figure(figsize=(8, 5))\n",
    "        sns.heatmap(numeric_df.corr(), annot=True, cmap='coolwarm', fmt=\".2f\", linewidths=0.5)\n",
    "        plt.title(\"Correlation Heatmap\")\n",
    "        path = \"plots/correlation_heatmap.png\"\n",
    "        plt.savefig(path)\n",
    "        plot_paths.append(path)\n",
    "        plt.close()\n",
    "    \n",
    "    return plot_paths\n",
    "\n",
    "# Function to Perform EDA\n",
    "def eda_analysis(file_path):\n",
    "    try:\n",
    "        df = pd.read_csv(file_path)\n",
    "\n",
    "        # Fill missing numeric values with median\n",
    "        for col in df.select_dtypes(include=['number']).columns:\n",
    "            df[col].fillna(df[col].median(), inplace=True)\n",
    "\n",
    "        # Fill missing categorical values with mode\n",
    "        for col in df.select_dtypes(include=['object']).columns:\n",
    "            if not df[col].mode().empty:\n",
    "                df[col].fillna(df[col].mode()[0], inplace=True)\n",
    "\n",
    "        # Generate summary and missing value info\n",
    "        summary = df.describe(include='all').to_string()\n",
    "        missing_values = df.isnull().sum().to_string()\n",
    "\n",
    "        # Generate insights\n",
    "        insights = generate_ai_insights(summary)\n",
    "\n",
    "        # Generate plots\n",
    "        plot_paths = generate_visualizations(df)\n",
    "\n",
    "        return f\"✅ Data Loaded Successfully!\\n\\n📌 Summary:\\n{summary}\\n\\n❓ Missing Values:\\n{missing_values}\\n\\n🧠 AI Insights:\\n{insights}\", plot_paths\n",
    "\n",
    "    except Exception as e:\n",
    "        return f\"❌ Error processing file: {e}\", []\n",
    "\n",
    "# Gradio UI\n",
    "demo = gr.Interface(\n",
    "    fn=eda_analysis,\n",
    "    inputs=gr.File(type=\"filepath\"),\n",
    "    outputs=[gr.Textbox(label=\"📋 EDA Report\"), gr.Gallery(label=\"📊 Data Visualizations\")],\n",
    "    title=\"📊 LLM-Powered Exploratory Data Analysis (EDA)\",\n",
    "    description=\"Upload any CSV dataset to get automatic EDA insights powered by AI (Ollama) and data visualizations.\",\n",
    ")\n",
    "\n",
    "# Launch App\n",
    "demo.launch(share=True)\n"
   ]
  },
  {
   "cell_type": "code",
   "execution_count": null,
   "id": "5a2cf3de",
   "metadata": {},
   "outputs": [],
   "source": []
  },
  {
   "cell_type": "code",
   "execution_count": null,
   "id": "09436aac",
   "metadata": {},
   "outputs": [],
   "source": []
  }
 ],
 "metadata": {
  "kernelspec": {
   "display_name": "base",
   "language": "python",
   "name": "python3"
  },
  "language_info": {
   "codemirror_mode": {
    "name": "ipython",
    "version": 3
   },
   "file_extension": ".py",
   "mimetype": "text/x-python",
   "name": "python",
   "nbconvert_exporter": "python",
   "pygments_lexer": "ipython3",
   "version": "3.12.4"
  }
 },
 "nbformat": 4,
 "nbformat_minor": 5
}
